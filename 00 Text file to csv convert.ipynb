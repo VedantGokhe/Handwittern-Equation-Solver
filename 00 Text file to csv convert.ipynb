{
 "cells": [
  {
   "cell_type": "markdown",
   "id": "dea6b839-c0c3-4daf-a300-37db116323e0",
   "metadata": {},
   "source": [
    "<font size='5'>**Text to csv file**</font>"
   ]
  },
  {
   "cell_type": "code",
   "execution_count": 1,
   "id": "2d8c9a6c-3f7b-48e9-859d-505d3fbd7dec",
   "metadata": {},
   "outputs": [],
   "source": [
    "import csv"
   ]
  },
  {
   "cell_type": "code",
   "execution_count": null,
   "id": "8f6165e0-4401-4ff9-8fed-6691367a2de5",
   "metadata": {},
   "outputs": [],
   "source": [
    "'''\n",
    "\n",
    "input_file='caption 2014.txt'\n",
    "output_file='caption_2014.csv'\n",
    "\n",
    "# Pead and process\n",
    "with open(input_file,'r',encoding='utf-8') as infile, open(output_file,'w',newline='',encoding='utf-8') as outfile:\n",
    "    writer=csv.writer(outfile)\n",
    "    writer.writerow(['Column1','Column2']) # Header\n",
    "    for line in infile:\n",
    "        parts=line.strip().split(maxsplit=1) # Spliting\n",
    "        if len(parts)==2:\n",
    "            writer.writerow(parts) # First word as first column and rest is secondcolumn\n",
    "\n",
    "        else:\n",
    "            writer.writerow([parts[0]],'') # If no second part\n",
    "\n",
    "print(Successful)\n",
    "\n",
    "\n",
    "'''"
   ]
  },
  {
   "cell_type": "code",
   "execution_count": 3,
   "id": "fe4e5421-65f7-4d4c-8276-e1a7523e9001",
   "metadata": {},
   "outputs": [],
   "source": [
    "import pandas as pd\n",
    "df=pd.read_csv('caption_2014.csv')"
   ]
  },
  {
   "cell_type": "code",
   "execution_count": 4,
   "id": "2b62339e-886a-4c7a-aec9-287eaa4df5dd",
   "metadata": {},
   "outputs": [
    {
     "data": {
      "text/html": [
       "<div>\n",
       "<style scoped>\n",
       "    .dataframe tbody tr th:only-of-type {\n",
       "        vertical-align: middle;\n",
       "    }\n",
       "\n",
       "    .dataframe tbody tr th {\n",
       "        vertical-align: top;\n",
       "    }\n",
       "\n",
       "    .dataframe thead th {\n",
       "        text-align: right;\n",
       "    }\n",
       "</style>\n",
       "<table border=\"1\" class=\"dataframe\">\n",
       "  <thead>\n",
       "    <tr style=\"text-align: right;\">\n",
       "      <th></th>\n",
       "      <th>Column1</th>\n",
       "      <th>Column2</th>\n",
       "    </tr>\n",
       "  </thead>\n",
       "  <tbody>\n",
       "    <tr>\n",
       "      <th>0</th>\n",
       "      <td>18_em_0</td>\n",
       "      <td>x _ { k } x x _ { k } + y _ { k } y x _ { k }</td>\n",
       "    </tr>\n",
       "    <tr>\n",
       "      <th>1</th>\n",
       "      <td>18_em_10</td>\n",
       "      <td>2 6</td>\n",
       "    </tr>\n",
       "    <tr>\n",
       "      <th>2</th>\n",
       "      <td>18_em_11</td>\n",
       "      <td>q _ { t } = 2 q</td>\n",
       "    </tr>\n",
       "    <tr>\n",
       "      <th>3</th>\n",
       "      <td>18_em_12</td>\n",
       "      <td>\\frac { p e ^ { t } } { 1 - ( 1 - p ) e ^ { t } }</td>\n",
       "    </tr>\n",
       "    <tr>\n",
       "      <th>4</th>\n",
       "      <td>18_em_13</td>\n",
       "      <td>4 ^ { 2 } + 4 ^ { 2 } + \\frac { 4 } { 4 }</td>\n",
       "    </tr>\n",
       "  </tbody>\n",
       "</table>\n",
       "</div>"
      ],
      "text/plain": [
       "    Column1                                            Column2\n",
       "0   18_em_0      x _ { k } x x _ { k } + y _ { k } y x _ { k }\n",
       "1  18_em_10                                                2 6\n",
       "2  18_em_11                                    q _ { t } = 2 q\n",
       "3  18_em_12  \\frac { p e ^ { t } } { 1 - ( 1 - p ) e ^ { t } }\n",
       "4  18_em_13          4 ^ { 2 } + 4 ^ { 2 } + \\frac { 4 } { 4 }"
      ]
     },
     "execution_count": 4,
     "metadata": {},
     "output_type": "execute_result"
    }
   ],
   "source": [
    "df.head()"
   ]
  },
  {
   "cell_type": "markdown",
   "id": "750cafe0-1dc2-4836-ad22-041eda97af96",
   "metadata": {},
   "source": [
    "<font size='5'>**Merge all csv files**</font>"
   ]
  },
  {
   "cell_type": "code",
   "execution_count": null,
   "id": "a35e8617-72c5-4649-aa66-67020c640d9a",
   "metadata": {},
   "outputs": [],
   "source": [
    "'''\n",
    "\n",
    "import glob\n",
    "\n",
    "# Specify the path where your CSV files are stored\n",
    "csv_files = glob.glob(\"..//Sem 2 project/*.csv\")  \n",
    "\n",
    "# Read and merge all CSV files\n",
    "df_list = [pd.read_csv(file) for file in csv_files]  # Read all CSVs\n",
    "merged_df = pd.concat(df_list, ignore_index=True)  # Concatenate them by rows\n",
    "\n",
    "# Save the merged file\n",
    "merged_df.to_csv(\"caption_dataset.csv\", index=False)\n",
    "\n",
    "print(\"CSV files have been merged successfully.\")\n",
    "\n",
    "'''"
   ]
  },
  {
   "cell_type": "code",
   "execution_count": null,
   "id": "aec6c6d6-048f-4479-8b7e-7ced35a42f57",
   "metadata": {},
   "outputs": [],
   "source": []
  },
  {
   "cell_type": "code",
   "execution_count": null,
   "id": "e5017a9c-9b12-4f31-833f-1a195cde34ce",
   "metadata": {},
   "outputs": [],
   "source": []
  },
  {
   "cell_type": "code",
   "execution_count": null,
   "id": "5fe617c5-f80f-4529-b2df-312009ea7a0b",
   "metadata": {},
   "outputs": [],
   "source": []
  },
  {
   "cell_type": "code",
   "execution_count": null,
   "id": "7226bfac-2960-4023-8a7d-dca499453a9b",
   "metadata": {},
   "outputs": [],
   "source": []
  },
  {
   "cell_type": "code",
   "execution_count": null,
   "id": "6cb37d37-2e4b-469b-8943-aa305c2c5571",
   "metadata": {},
   "outputs": [],
   "source": []
  }
 ],
 "metadata": {
  "kernelspec": {
   "display_name": "Python 3 (ipykernel)",
   "language": "python",
   "name": "python3"
  },
  "language_info": {
   "codemirror_mode": {
    "name": "ipython",
    "version": 3
   },
   "file_extension": ".py",
   "mimetype": "text/x-python",
   "name": "python",
   "nbconvert_exporter": "python",
   "pygments_lexer": "ipython3",
   "version": "3.12.4"
  }
 },
 "nbformat": 4,
 "nbformat_minor": 5
}
