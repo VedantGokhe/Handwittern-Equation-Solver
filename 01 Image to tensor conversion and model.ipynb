{
 "cells": [
  {
   "cell_type": "markdown",
   "id": "3db7ae1f-87ff-4729-85f2-b78dfa595156",
   "metadata": {},
   "source": [
    "**Unzip data**"
   ]
  },
  {
   "cell_type": "code",
   "execution_count": 26,
   "id": "9d957d79-2867-4c48-8245-2fb29e53354d",
   "metadata": {},
   "outputs": [],
   "source": [
    "import os\n",
    "import py7zr"
   ]
  },
  {
   "cell_type": "code",
   "execution_count": 2,
   "id": "72c923f8-ba79-448a-be8b-7696f640df50",
   "metadata": {},
   "outputs": [
    {
     "data": {
      "text/plain": [
       "\"\\n\\nzip_path='Handwritten.7z'\\nextract_path='Handwritten_equations'\\n\\nwith py7zr.SevenZipFile(zip_path,'r') as zip_ref:\\n    zip_ref.extractall(extract_path)\\n\\n\""
      ]
     },
     "execution_count": 2,
     "metadata": {},
     "output_type": "execute_result"
    }
   ],
   "source": [
    "'''\n",
    "\n",
    "zip_path='Handwritten.7z'\n",
    "extract_path='Handwritten_equations'\n",
    "\n",
    "with py7zr.SevenZipFile(zip_path,'r') as zip_ref:\n",
    "    zip_ref.extractall(extract_path)\n",
    "\n",
    "''' "
   ]
  },
  {
   "cell_type": "code",
   "execution_count": null,
   "id": "d419719e-af22-4897-8467-7caf9db00816",
   "metadata": {},
   "outputs": [],
   "source": []
  },
  {
   "cell_type": "markdown",
   "id": "4643aa37-bcfd-4f78-b83c-3b5a90e005f3",
   "metadata": {},
   "source": [
    "**Making Charector Dictionary**"
   ]
  },
  {
   "cell_type": "code",
   "execution_count": 9,
   "id": "ef77a8b6-8ac5-4306-981b-285f269040d7",
   "metadata": {},
   "outputs": [],
   "source": [
    "import torch\n",
    "import torch.nn as nn\n",
    "import pandas as pd\n",
    "from PIL import Image\n",
    "from torchvision import transforms,datasets\n",
    "from torch.utils.data import Dataset , DataLoader"
   ]
  },
  {
   "cell_type": "code",
   "execution_count": 10,
   "id": "6beab237-1db7-4d3a-afd3-c60eaf6c182e",
   "metadata": {},
   "outputs": [],
   "source": [
    "image_folder=\"Handwritten_equations/Handwritten/Dataset\"\n",
    "df=pd.read_csv('caption_data.csv')"
   ]
  },
  {
   "cell_type": "code",
   "execution_count": 11,
   "id": "ac4f0dd4-20ed-40ca-9b8b-4c668d872968",
   "metadata": {},
   "outputs": [
    {
     "name": "stdout",
     "output_type": "stream",
     "text": [
      "Character dictionary created\n"
     ]
    }
   ],
   "source": [
    "import json\n",
    "\n",
    "# Extract all characters from the labels\n",
    "all_text = \"\".join(df[\"Column2\"].astype(str))  # Convert all text into a single string\n",
    "\n",
    "# Get unique characters and create dictionary\n",
    "unique_chars = sorted(set(all_text))\n",
    "char_dict = {char: idx for idx, char in enumerate(unique_chars)}\n",
    "\n",
    "# Save dictionary for later use\n",
    "with open(\"char_dict.json\", \"w\", encoding=\"utf-8\") as f:\n",
    "    json.dump(char_dict, f, indent=4, ensure_ascii=False)\n",
    "\n",
    "print(\"Character dictionary created\")\n"
   ]
  },
  {
   "cell_type": "code",
   "execution_count": 12,
   "id": "83ccc20d-64bf-462f-97a7-cd54df582fdc",
   "metadata": {},
   "outputs": [
    {
     "name": "stdout",
     "output_type": "stream",
     "text": [
      "\\cos ( n x ) = 2 \\cos ( x ) \\cos [ ( n - 1 ) x ] - \\cos [ ( n - 2 ) x ]\n"
     ]
    }
   ],
   "source": [
    "df.sample(5)\n",
    "value = df.loc[df['Column1'] == '29_em_167', df.columns[1]].values[0]\n",
    "print(value)"
   ]
  },
  {
   "cell_type": "markdown",
   "id": "f577daab-0f10-4c1f-8ede-2cb2f63ff498",
   "metadata": {},
   "source": [
    "**Encoding labels**"
   ]
  },
  {
   "cell_type": "code",
   "execution_count": 13,
   "id": "fa366bad-8187-46a9-ad68-6b1e6d19939f",
   "metadata": {},
   "outputs": [
    {
     "name": "stdout",
     "output_type": "stream",
     "text": [
      "Example encoded label: [70, 0, 46, 0, 73, 0, 57, 0, 75, 0, 70, 0, 70, 0, 46, 0, 73, 0, 57, 0, 75, 0, 5, 0, 71, 0, 46, 0, 73, 0, 57, 0, 75, 0, 71, 0, 70, 0, 46, 0, 73, 0, 57, 0, 75]\n"
     ]
    }
   ],
   "source": [
    "# Encoding of Latex labels\n",
    "def encode_label(label, char_dict):\n",
    "    return [char_dict[char] for char in label if char in char_dict]\n",
    "\n",
    "df[\"Column2\"] = df[\"Column2\"].apply(lambda x: encode_label(x, char_dict))\n",
    "\n",
    "print(\"Example encoded label:\", df[\"Column2\"].iloc[0])\n"
   ]
  },
  {
   "cell_type": "code",
   "execution_count": 14,
   "id": "0f9a84ed-db4d-4e53-a0fe-d8f1dacaeb2d",
   "metadata": {},
   "outputs": [
    {
     "data": {
      "text/html": [
       "<div>\n",
       "<style scoped>\n",
       "    .dataframe tbody tr th:only-of-type {\n",
       "        vertical-align: middle;\n",
       "    }\n",
       "\n",
       "    .dataframe tbody tr th {\n",
       "        vertical-align: top;\n",
       "    }\n",
       "\n",
       "    .dataframe thead th {\n",
       "        text-align: right;\n",
       "    }\n",
       "</style>\n",
       "<table border=\"1\" class=\"dataframe\">\n",
       "  <thead>\n",
       "    <tr style=\"text-align: right;\">\n",
       "      <th></th>\n",
       "      <th>Column1</th>\n",
       "      <th>Column2</th>\n",
       "    </tr>\n",
       "  </thead>\n",
       "  <tbody>\n",
       "    <tr>\n",
       "      <th>0</th>\n",
       "      <td>18_em_0</td>\n",
       "      <td>[70, 0, 46, 0, 73, 0, 57, 0, 75, 0, 70, 0, 70,...</td>\n",
       "    </tr>\n",
       "    <tr>\n",
       "      <th>1</th>\n",
       "      <td>18_em_10</td>\n",
       "      <td>[12, 0, 16]</td>\n",
       "    </tr>\n",
       "    <tr>\n",
       "      <th>2</th>\n",
       "      <td>18_em_11</td>\n",
       "      <td>[63, 0, 46, 0, 73, 0, 66, 0, 75, 0, 21, 0, 12,...</td>\n",
       "    </tr>\n",
       "    <tr>\n",
       "      <th>3</th>\n",
       "      <td>18_em_12</td>\n",
       "      <td>[43, 52, 64, 47, 49, 0, 73, 0, 62, 0, 51, 0, 4...</td>\n",
       "    </tr>\n",
       "    <tr>\n",
       "      <th>4</th>\n",
       "      <td>18_em_13</td>\n",
       "      <td>[14, 0, 45, 0, 73, 0, 12, 0, 75, 0, 5, 0, 14, ...</td>\n",
       "    </tr>\n",
       "  </tbody>\n",
       "</table>\n",
       "</div>"
      ],
      "text/plain": [
       "    Column1                                            Column2\n",
       "0   18_em_0  [70, 0, 46, 0, 73, 0, 57, 0, 75, 0, 70, 0, 70,...\n",
       "1  18_em_10                                        [12, 0, 16]\n",
       "2  18_em_11  [63, 0, 46, 0, 73, 0, 66, 0, 75, 0, 21, 0, 12,...\n",
       "3  18_em_12  [43, 52, 64, 47, 49, 0, 73, 0, 62, 0, 51, 0, 4...\n",
       "4  18_em_13  [14, 0, 45, 0, 73, 0, 12, 0, 75, 0, 5, 0, 14, ..."
      ]
     },
     "execution_count": 14,
     "metadata": {},
     "output_type": "execute_result"
    }
   ],
   "source": [
    "df.head()"
   ]
  },
  {
   "cell_type": "markdown",
   "id": "5d387cb6-2fee-41a1-a633-5560a7d1750d",
   "metadata": {},
   "source": [
    "**Matching the name of image**"
   ]
  },
  {
   "cell_type": "code",
   "execution_count": 15,
   "id": "3565a4e8-0abf-4b54-a9ec-2639b004db73",
   "metadata": {},
   "outputs": [
    {
     "data": {
      "text/html": [
       "<div>\n",
       "<style scoped>\n",
       "    .dataframe tbody tr th:only-of-type {\n",
       "        vertical-align: middle;\n",
       "    }\n",
       "\n",
       "    .dataframe tbody tr th {\n",
       "        vertical-align: top;\n",
       "    }\n",
       "\n",
       "    .dataframe thead th {\n",
       "        text-align: right;\n",
       "    }\n",
       "</style>\n",
       "<table border=\"1\" class=\"dataframe\">\n",
       "  <thead>\n",
       "    <tr style=\"text-align: right;\">\n",
       "      <th></th>\n",
       "      <th>Column1</th>\n",
       "      <th>Column2</th>\n",
       "    </tr>\n",
       "  </thead>\n",
       "  <tbody>\n",
       "    <tr>\n",
       "      <th>0</th>\n",
       "      <td>18_em_0.bmp</td>\n",
       "      <td>[70, 0, 46, 0, 73, 0, 57, 0, 75, 0, 70, 0, 70,...</td>\n",
       "    </tr>\n",
       "    <tr>\n",
       "      <th>1</th>\n",
       "      <td>18_em_10.bmp</td>\n",
       "      <td>[12, 0, 16]</td>\n",
       "    </tr>\n",
       "    <tr>\n",
       "      <th>2</th>\n",
       "      <td>18_em_11.bmp</td>\n",
       "      <td>[63, 0, 46, 0, 73, 0, 66, 0, 75, 0, 21, 0, 12,...</td>\n",
       "    </tr>\n",
       "    <tr>\n",
       "      <th>3</th>\n",
       "      <td>18_em_12.bmp</td>\n",
       "      <td>[43, 52, 64, 47, 49, 0, 73, 0, 62, 0, 51, 0, 4...</td>\n",
       "    </tr>\n",
       "    <tr>\n",
       "      <th>4</th>\n",
       "      <td>18_em_13.bmp</td>\n",
       "      <td>[14, 0, 45, 0, 73, 0, 12, 0, 75, 0, 5, 0, 14, ...</td>\n",
       "    </tr>\n",
       "  </tbody>\n",
       "</table>\n",
       "</div>"
      ],
      "text/plain": [
       "        Column1                                            Column2\n",
       "0   18_em_0.bmp  [70, 0, 46, 0, 73, 0, 57, 0, 75, 0, 70, 0, 70,...\n",
       "1  18_em_10.bmp                                        [12, 0, 16]\n",
       "2  18_em_11.bmp  [63, 0, 46, 0, 73, 0, 66, 0, 75, 0, 21, 0, 12,...\n",
       "3  18_em_12.bmp  [43, 52, 64, 47, 49, 0, 73, 0, 62, 0, 51, 0, 4...\n",
       "4  18_em_13.bmp  [14, 0, 45, 0, 73, 0, 12, 0, 75, 0, 5, 0, 14, ..."
      ]
     },
     "execution_count": 15,
     "metadata": {},
     "output_type": "execute_result"
    }
   ],
   "source": [
    "# Modyfing the name of images\n",
    "df[\"Column1\"] = df[\"Column1\"].astype(str) + \".bmp\"\n",
    "df.head()"
   ]
  },
  {
   "cell_type": "markdown",
   "id": "e8787618-260b-4b17-a962-19ecae3e7eda",
   "metadata": {},
   "source": [
    "**Dataset class**"
   ]
  },
  {
   "cell_type": "code",
   "execution_count": 16,
   "id": "1cde2afa-d51d-4121-afdf-7ffcd768d668",
   "metadata": {},
   "outputs": [],
   "source": [
    "class Dataset(Dataset):\n",
    "    def __init__(self, df, img_dir, transform=None):\n",
    "        self.df = df\n",
    "        self.img_dir = img_dir\n",
    "        self.transform = transform\n",
    "\n",
    "        print(\"Initial DataFrame size:\", len(self.df))\n",
    "\n",
    "        # Filter out rows where the image does not exist\n",
    "        self.df = self.df[self.df.iloc[:, 0].apply(lambda x: os.path.exists(os.path.join(img_dir, x)))].reset_index(drop=True)\n",
    "\n",
    "        print(\"Final DataFrame size:\", len(self.df))\n",
    "\n",
    "    def __len__(self):\n",
    "        return len(self.df)\n",
    "\n",
    "    def __getitem__(self, index):\n",
    "        img_name = self.df.iloc[index, 0]\n",
    "        img_path = os.path.join(self.img_dir, img_name)\n",
    "\n",
    "        \n",
    "        image = Image.open(img_path)\n",
    "\n",
    "        label = self.df.iloc[index, -1]\n",
    "        label = torch.tensor(label, dtype=torch.long)\n",
    "\n",
    "        if self.transform:\n",
    "            image = self.transform(image)\n",
    "\n",
    "        return image, label\n",
    "        "
   ]
  },
  {
   "cell_type": "markdown",
   "id": "d443eb7a-5b30-4d6c-8201-9fc0acdf83ed",
   "metadata": {},
   "source": [
    "**Dataset**"
   ]
  },
  {
   "cell_type": "code",
   "execution_count": 17,
   "id": "f7ab79d3-9174-401e-9994-dba61a96cfac",
   "metadata": {},
   "outputs": [
    {
     "name": "stdout",
     "output_type": "stream",
     "text": [
      "Initial DataFrame size: 12167\n",
      "Final DataFrame size: 12167\n"
     ]
    }
   ],
   "source": [
    "# This transforms this image to tensor\n",
    "\n",
    "mean=[0.4363]\n",
    "std=[0.2129]\n",
    "transform=transforms.Compose([\n",
    "    transforms.Grayscale(num_output_channels=1),\n",
    "    transforms.Resize((128,128)),\n",
    "    transforms.RandomHorizontalFlip(p=0.4),\n",
    "    transforms.RandomRotation(30),\n",
    "    transforms.ToTensor(),\n",
    "    transforms.Normalize((0.5,),(0.5,))\n",
    "])\n",
    "\n",
    "# Create dataset\n",
    "dataset=Dataset(df=df,img_dir=image_folder,transform=transform)"
   ]
  },
  {
   "cell_type": "markdown",
   "id": "3ad32788-6972-4438-8707-80a7f9d442e1",
   "metadata": {},
   "source": [
    "**Managing the variable lenght**"
   ]
  },
  {
   "cell_type": "code",
   "execution_count": 18,
   "id": "0c4465dc-5b19-4051-810b-5f20e04a2620",
   "metadata": {},
   "outputs": [],
   "source": [
    "# Manage the variable lenght of label\n",
    "\n",
    "def custom_collate_fn(batch):\n",
    "    images, labels = zip(*batch)  # Unzip images and labels\n",
    "\n",
    "    # Stack images into a batch tensor\n",
    "    images = torch.stack(images, dim=0)\n",
    "\n",
    "    # Convert each label tensor to a list (to allow list operations)\n",
    "    labels = [label.tolist() if isinstance(label, torch.Tensor) else label for label in labels]\n",
    "\n",
    "    # Find max length of label in the batch\n",
    "    max_len = max(len(label) for label in labels)\n",
    "\n",
    "    # Pad labels with 0 (or another padding token if needed)\n",
    "    padded_labels = [label + [0] * (max_len - len(label)) for label in labels]\n",
    "\n",
    "    # Convert labels to tensor\n",
    "    labels_tensor = torch.tensor(padded_labels, dtype=torch.long)\n",
    "\n",
    "    return images, labels_tensor  # Labels are now a padded tensor\n"
   ]
  },
  {
   "cell_type": "markdown",
   "id": "c2165c92-9636-4d51-9791-e973b1a4c67e",
   "metadata": {},
   "source": [
    "**Use of DataLoader**"
   ]
  },
  {
   "cell_type": "code",
   "execution_count": 19,
   "id": "b18c66bb-25a3-4743-9e24-9525a953b157",
   "metadata": {},
   "outputs": [],
   "source": [
    "from torch.utils.data import random_split\n",
    "train_ratio=0.8\n",
    "train_size=int(train_ratio*len(dataset))\n",
    "test_size=len(dataset)-train_size\n",
    "\n",
    "train_data,test_data=random_split(dataset,[train_size,test_size])"
   ]
  },
  {
   "cell_type": "code",
   "execution_count": 20,
   "id": "cac173b7-ee28-4c80-a09a-72c5c9480f0b",
   "metadata": {},
   "outputs": [],
   "source": [
    "batch_size=8\n",
    "train_loader = DataLoader(dataset, batch_size=batch_size, shuffle=True,pin_memory=True,collate_fn=custom_collate_fn)\n",
    "test_loader = DataLoader(dataset, batch_size=batch_size, shuffle=False,pin_memory=True,collate_fn=custom_collate_fn)"
   ]
  },
  {
   "cell_type": "markdown",
   "id": "ada78d2e-484c-45dd-915a-25b15410fe15",
   "metadata": {},
   "source": [
    "**Visulisation of one tensor from test**"
   ]
  },
  {
   "cell_type": "code",
   "execution_count": 21,
   "id": "24c2d965-7ccb-44b1-a034-da73d824cc3c",
   "metadata": {},
   "outputs": [
    {
     "data": {
      "image/png": "[encoded data removed]",
      "text/plain": [
       "<Figure size 640x480 with 1 Axes>"
      ]
     },
     "metadata": {},
     "output_type": "display_data"
    },
    {
     "name": "stdout",
     "output_type": "stream",
     "text": [
      "Label (LaTeX format): tensor([70,  0, 46,  0, 73,  0, 57,  0, 75,  0, 70,  0, 70,  0, 46,  0, 73,  0,\n",
      "        57,  0, 75,  0,  5,  0, 71,  0, 46,  0, 73,  0, 57,  0, 75,  0, 71,  0,\n",
      "        70,  0, 46,  0, 73,  0, 57,  0, 75,  0,  0,  0,  0,  0,  0,  0,  0,  0,\n",
      "         0,  0,  0,  0,  0,  0,  0])\n",
      "Images Tensor Shape: (128, 128, 1)\n",
      "Labels Tensor Shape: torch.Size([61])\n"
     ]
    }
   ],
   "source": [
    "import matplotlib.pyplot as plt\n",
    "import torchvision.transforms as transforms\n",
    "import torch\n",
    "\n",
    "# Get one batch from the DataLoader\n",
    "data_iter = iter(test_loader)\n",
    "images, labels = next(data_iter)  # Get first batch\n",
    "\n",
    "# Select the first image from the batch\n",
    "image = images[0]  # First image tensor\n",
    "\n",
    "# Convert tensor to numpy for visualization\n",
    "image = image.permute(1, 2, 0).cpu().numpy()  # Convert (C, H, W) to (H, W, C)\n",
    "\n",
    "# Display the image\n",
    "plt.imshow(image, cmap=\"gray\")  # Use 'gray' if it's a grayscale image\n",
    "plt.axis(\"off\")\n",
    "plt.show()\n",
    "\n",
    "# Print the corresponding label\n",
    "print(\"Label (LaTeX format):\", labels[0])\n",
    "print(f\"Images Tensor Shape: {image.shape}\")  # Should be (batch_size, 3,resize,resize)\n",
    "print(f\"Labels Tensor Shape: {labels[0].shape}\")  # Should be (batch_size,)"
   ]
  },
  {
   "cell_type": "markdown",
   "id": "9f690fa8-a48a-4a86-827f-d417f8e79b66",
   "metadata": {},
   "source": [
    "<font size='5'>**Done making train and test data set now make model and train**</font>"
   ]
  },
  {
   "cell_type": "code",
   "execution_count": 38,
   "id": "498b5ab2-1db6-47be-b8be-6716c7833e23",
   "metadata": {},
   "outputs": [],
   "source": [
    "class Model(nn.Module):\n",
    "    def __init__(self, input_features=1):  # Default to 1 channel\n",
    "        super().__init__()\n",
    "        self.features = nn.Sequential(\n",
    "            nn.Conv2d(input_features, 64, kernel_size=3, padding='same'),\n",
    "            nn.ReLU(),\n",
    "            nn.BatchNorm2d(64),\n",
    "            nn.MaxPool2d(kernel_size=2, stride=2),\n",
    "\n",
    "            nn.Conv2d(64, 128, kernel_size=3, padding='same'),\n",
    "            nn.ReLU(),\n",
    "            nn.BatchNorm2d(128),\n",
    "            nn.MaxPool2d(kernel_size=2, stride=2)           \n",
    "        )\n",
    "        self.classifier = nn.Sequential(\n",
    "            nn.Flatten(),\n",
    "            nn.LazyLinear(128),\n",
    "            nn.ReLU(),\n",
    "            nn.Dropout(p=0.4),\n",
    "\n",
    "            nn.Linear(128, 64),\n",
    "            nn.ReLU(),\n",
    "            nn.Dropout(p=0.4),\n",
    "\n",
    "            nn.Linear(64, 8)\n",
    "        )\n",
    "\n",
    "\n",
    "    def forward(self, x):\n",
    "        x = self.features(x)\n",
    "        x = self.classifier(x)\n",
    "        return x\n"
   ]
  },
  {
   "cell_type": "code",
   "execution_count": 39,
   "id": "c1d3784e-12ea-4bd7-8c5a-d7cb2337deb9",
   "metadata": {},
   "outputs": [],
   "source": [
    "lr=0.01\n",
    "epochs=100"
   ]
  },
  {
   "cell_type": "code",
   "execution_count": 40,
   "id": "c59ec265-a600-4125-b050-c759fa9df799",
   "metadata": {},
   "outputs": [],
   "source": [
    "import torch.optim as op\n",
    "\n",
    "model=Model(1)\n",
    "Cross_Loss=nn.CrossEntropyLoss()\n",
    "opt=op.SGD(model.parameters(),lr=lr,momentum=0.8)"
   ]
  },
  {
   "cell_type": "code",
   "execution_count": 41,
   "id": "a2b99258-c916-45e3-a0d3-d584e6a9cb9f",
   "metadata": {},
   "outputs": [
    {
     "name": "stdout",
     "output_type": "stream",
     "text": [
      "tensor([[ 0.2349,  0.0228,  0.3975, -0.1458, -0.5436,  0.3543, -0.1258, -0.0448],\n",
      "        [ 0.1404,  0.3031,  0.1715, -0.1537, -0.1863, -0.1560,  0.1065, -0.2072],\n",
      "        [-0.0803, -0.1985,  0.1333,  0.1268, -0.3663, -0.1833,  0.1676, -0.3279],\n",
      "        [-0.0437, -0.0538,  0.1787, -0.2693, -0.0110,  0.1664,  0.3237, -0.0758],\n",
      "        [-0.2488,  0.0130,  0.0166,  0.1293,  0.4397, -0.2578, -0.2941, -0.1477],\n",
      "        [-0.1612,  0.5370,  0.1555, -0.2561,  0.3796,  0.1108, -0.1502, -0.0590],\n",
      "        [-0.1537,  0.1772,  0.2150, -0.4789, -0.6481,  0.0191, -0.3213, -0.2552],\n",
      "        [-0.3263,  0.0224,  0.3252, -0.0978, -0.1341, -0.0523, -0.4023,  0.1794]],\n",
      "       grad_fn=<AddmmBackward0>)\n",
      "tensor([[-0.0743,  0.4757,  0.0660,  0.1037,  0.2652,  0.1158, -0.5591,  0.1372],\n",
      "        [ 0.1454,  0.3010, -0.1660, -0.0469, -0.1681, -0.0217,  0.0915,  0.1153],\n",
      "        [-0.2613,  0.1693, -0.0740, -0.2739, -0.4291, -0.0884, -0.4308, -0.2682],\n",
      "        [ 0.0368,  0.1773, -0.2322, -0.0783,  0.0271,  0.1688,  0.2267, -0.2550],\n",
      "        [ 0.0297,  0.6983,  0.3674, -0.4658,  0.0425,  0.1659, -0.2946,  0.1986],\n",
      "        [-0.1750, -0.1960,  0.1819,  0.0202, -0.3883, -0.2127,  0.6077,  0.2457],\n",
      "        [-0.0080,  0.1459,  0.1828, -0.1549, -0.4277,  0.2573, -0.1353,  0.1073],\n",
      "        [ 0.2297,  0.1664,  0.2654, -0.1872, -0.0511,  0.0844,  0.0946, -0.0203]],\n",
      "       grad_fn=<AddmmBackward0>)\n",
      "tensor([[ 3.6977e-04, -2.5363e-02,  1.1474e-02, -5.9374e-01,  3.1744e-01,\n",
      "         -9.7014e-03,  3.3129e-01, -1.6862e-01],\n",
      "        [ 1.1574e-01,  6.7816e-01,  7.1109e-02, -1.1435e-01, -1.9359e-01,\n",
      "          1.7812e-01, -3.3782e-01,  2.3219e-01],\n",
      "        [ 1.6251e-02,  1.1154e-01, -4.5833e-02, -2.5325e-01, -2.2283e-01,\n",
      "          1.3938e-02,  1.7336e-01, -4.5590e-03],\n",
      "        [-1.9046e-01, -3.5885e-01,  1.0901e-01, -5.2200e-01, -3.9889e-01,\n",
      "          1.2822e-01, -2.0873e-01, -3.9841e-01],\n",
      "        [-4.8332e-01,  5.2610e-01, -1.4305e-01, -1.8580e-01, -6.5407e-02,\n",
      "         -1.5837e-01, -1.8550e-02,  1.1374e-01],\n",
      "        [-2.3203e-01,  2.8100e-01,  1.2152e-01, -4.5322e-01,  1.4710e-01,\n",
      "         -2.5536e-01, -3.8918e-01,  2.1229e-02],\n",
      "        [-1.8981e-01,  6.2439e-01, -1.6691e-01, -2.1618e-01, -6.8391e-02,\n",
      "         -3.5195e-03, -1.5804e-01, -1.5682e-01],\n",
      "        [-2.5546e-01,  2.7108e-02, -8.5879e-02, -1.1293e-01,  1.2466e-01,\n",
      "         -3.4239e-01, -1.7233e-01, -4.4766e-01]], grad_fn=<AddmmBackward0>)\n",
      "tensor([[-0.0354,  0.0592,  0.0600, -0.1985, -0.0975, -0.3604, -0.0086,  0.0070],\n",
      "        [-0.0384, -0.1671,  0.2942, -0.4909, -0.7667, -0.1030,  0.1602, -0.2026],\n",
      "        [-0.1842,  0.2111, -0.0675, -0.0422,  0.2198, -0.1659, -0.0699,  0.1261],\n",
      "        [-0.1786,  0.2278, -0.1426, -0.2713,  0.2007, -0.0069, -0.2930,  0.0958],\n",
      "        [ 0.3891, -0.0010,  0.4596,  0.0594, -0.4701, -0.1007, -0.1223,  0.0565],\n",
      "        [ 0.0074,  0.2100,  0.1510, -0.0559, -0.1308, -0.0234,  0.3515, -0.1668],\n",
      "        [-0.2849,  0.4744,  0.5302,  0.0057, -0.5356,  0.5637,  0.4145, -0.4268],\n",
      "        [ 0.1289,  0.1070,  0.1003, -0.0726, -0.3784, -0.0575, -0.1828, -0.3038]],\n",
      "       grad_fn=<AddmmBackward0>)\n"
     ]
    }
   ],
   "source": [
    "for i, (batch_features, batch_labels) in enumerate(train_loader):\n",
    "    out = model.forward(batch_features)\n",
    "    print(out)\n",
    "    if i == 3:  # Stop after the second batch (i starts at 0)\n",
    "        break\n"
   ]
  },
  {
   "cell_type": "code",
   "execution_count": null,
   "id": "28466735-5b20-4ce4-8d7a-3603ba6e1cfb",
   "metadata": {},
   "outputs": [],
   "source": []
  },
  {
   "cell_type": "code",
   "execution_count": 18,
   "id": "549572bc-e24a-4d45-b7a8-58179484d733",
   "metadata": {},
   "outputs": [
    {
     "ename": "KeyboardInterrupt",
     "evalue": "",
     "output_type": "error",
     "traceback": [
      "\u001b[1;31m---------------------------------------------------------------------------\u001b[0m",
      "\u001b[1;31mKeyboardInterrupt\u001b[0m                         Traceback (most recent call last)",
      "Cell \u001b[1;32mIn[18], line 8\u001b[0m\n\u001b[0;32m      5\u001b[0m optimizer \u001b[38;5;241m=\u001b[39m op\u001b[38;5;241m.\u001b[39mSGD(model\u001b[38;5;241m.\u001b[39mparameters(), lr\u001b[38;5;241m=\u001b[39m\u001b[38;5;241m0.01\u001b[39m)\n\u001b[0;32m      7\u001b[0m \u001b[38;5;66;03m# Train Model\u001b[39;00m\n\u001b[1;32m----> 8\u001b[0m train(model, train_loader, optimizer, epochs\u001b[38;5;241m=\u001b[39m\u001b[38;5;241m10\u001b[39m, device\u001b[38;5;241m=\u001b[39mdevice)\n",
      "Cell \u001b[1;32mIn[17], line 39\u001b[0m, in \u001b[0;36mtrain\u001b[1;34m(model, dataloader, optimizer, epochs, device)\u001b[0m\n\u001b[0;32m     36\u001b[0m     \u001b[38;5;28;01mbreak\u001b[39;00m\n\u001b[0;32m     38\u001b[0m \u001b[38;5;66;03m# Compute CTC Loss\u001b[39;00m\n\u001b[1;32m---> 39\u001b[0m loss \u001b[38;5;241m=\u001b[39m ctc_loss(log_probs\u001b[38;5;241m.\u001b[39mpermute(\u001b[38;5;241m1\u001b[39m, \u001b[38;5;241m0\u001b[39m, \u001b[38;5;241m2\u001b[39m), targets, input_lengths, label_lengths)\n\u001b[0;32m     41\u001b[0m \u001b[38;5;66;03m# Backpropagation with gradient clipping\u001b[39;00m\n\u001b[0;32m     42\u001b[0m loss\u001b[38;5;241m.\u001b[39mbackward()\n",
      "\u001b[1;31mKeyboardInterrupt\u001b[0m: "
     ]
    }
   ],
   "source": [
    "import time\n",
    "loss_values=[]\n",
    "for epoch in range(epochs):\n",
    "    start=time.time()\n",
    "    total_loss=0\n",
    "    for batch_features,batch_labels in train_loader:\n",
    "\n",
    "        batch_features,batch_labels=batch_features.to(device),batch_labels.to(device)\n",
    "\n",
    "        out=model.forward(batch_features)\n",
    "        loss=Cross_Loss(out,batch_labels)\n",
    "        opt.zero_grad()\n",
    "        loss.backward()\n",
    "        opt.step()\n",
    "        total_loss+=loss.item()\n",
    "\n",
    "    avg_loss=total_loss/len(train_loader)\n",
    "    end=time.time()\n",
    "    print(f'Epoch: {epoch+1} and avg_loss: {avg_loss} and time: {end-start}')\n",
    "    loss_values.append(avg_loss)"
   ]
  },
  {
   "cell_type": "code",
   "execution_count": null,
   "id": "e1456bf5-0309-4a37-a7f0-2f3104f06275",
   "metadata": {},
   "outputs": [],
   "source": [
    "model.eval()"
   ]
  },
  {
   "cell_type": "code",
   "execution_count": null,
   "id": "ab6f17eb-6cc4-41e3-a665-eaab0286abfa",
   "metadata": {},
   "outputs": [],
   "source": [
    "import matplotlib.pyplot as plt\n",
    "plt.figure(figsize=(10, 5))\n",
    "plt.plot(range(1, epochs + 1), loss_values,  linestyle='-', color='b', label=\"Training Loss\")\n",
    "plt.xlabel(\"Epochs\")\n",
    "plt.ylabel(\"Loss\")\n",
    "plt.title(\"Loss vs. Epoch\")\n",
    "plt.legend()\n",
    "plt.grid()\n",
    "plt.show()"
   ]
  },
  {
   "cell_type": "code",
   "execution_count": null,
   "id": "24344366-0335-4e4b-8cdd-1a0b5b72b2e4",
   "metadata": {},
   "outputs": [],
   "source": []
  },
  {
   "cell_type": "code",
   "execution_count": null,
   "id": "eaa4af4e-5a24-4f6e-a288-0cf0877035ed",
   "metadata": {},
   "outputs": [],
   "source": []
  }
 ],
 "metadata": {
  "kernelspec": {
   "display_name": "Python 3 (ipykernel)",
   "language": "python",
   "name": "python3"
  },
  "language_info": {
   "codemirror_mode": {
    "name": "ipython",
    "version": 3
   },
   "file_extension": ".py",
   "mimetype": "text/x-python",
   "name": "python",
   "nbconvert_exporter": "python",
   "pygments_lexer": "ipython3",
   "version": "3.12.4"
  }
 },
 "nbformat": 4,
 "nbformat_minor": 5
}
